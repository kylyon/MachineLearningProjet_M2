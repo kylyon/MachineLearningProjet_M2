{
 "nbformat": 4,
 "nbformat_minor": 0,
 "metadata": {
  "colab": {
   "provenance": []
  },
  "kernelspec": {
   "name": "python3",
   "display_name": "Python 3"
  },
  "language_info": {
   "name": "python"
  }
 },
 "cells": [
  {
   "cell_type": "markdown",
   "source": [
    "# Imports"
   ],
   "metadata": {
    "id": "oFyJqMjzpWXV"
   }
  },
  {
   "cell_type": "code",
   "source": [
    "import numpy as np\n",
    "import matplotlib.pyplot as plt\n",
    "import math\n",
    "from tqdm import tqdm\n",
    "from typing import List"
   ],
   "metadata": {
    "id": "ECdaZQ2blkSK"
   },
   "execution_count": 1,
   "outputs": []
  },
  {
   "cell_type": "code",
   "execution_count": null,
   "outputs": [],
   "source": [],
   "metadata": {
    "collapsed": false
   }
  },
  {
   "cell_type": "markdown",
   "source": [
    "# Création du Dataset"
   ],
   "metadata": {
    "id": "yBvKr78dpY4g"
   }
  },
  {
   "cell_type": "code",
   "execution_count": null,
   "metadata": {
    "id": "h3lM2esL2k4m",
    "pycharm": {
     "is_executing": true
    }
   },
   "outputs": [],
   "source": [
    "points = np.array([\n",
    "    [1, 1],\n",
    "    [2, 1],\n",
    "    [2, 2],\n",
    "    [1, 2]\n",
    "])\n",
    "classes = np.array([\n",
    "    1,\n",
    "    1,\n",
    "    -1,\n",
    "    0\n",
    "])"
   ]
  },
  {
   "cell_type": "markdown",
   "source": [
    "# Affichage du dataset"
   ],
   "metadata": {
    "id": "vKXK10eDpcEZ"
   }
  },
  {
   "cell_type": "code",
   "source": [
    "colors = ['blue', 'blue', 'red', 'green']"
   ],
   "metadata": {
    "id": "aP4XKXz1lH1e"
   },
   "execution_count": 3,
   "outputs": []
  },
  {
   "cell_type": "code",
   "source": [
    "plt.scatter(points[:, 0], points[:, 1], c=colors)\n",
    "plt.show()"
   ],
   "metadata": {
    "colab": {
     "base_uri": "https://localhost:8080/",
     "height": 265
    },
    "id": "fdRRWecnlW1B",
    "outputId": "995102c3-cc21-4c5f-ee8d-4606707edde3"
   },
   "execution_count": 4,
   "outputs": [
    {
     "output_type": "display_data",
     "data": {
      "text/plain": [
       "<Figure size 432x288 with 1 Axes>"
      ],
      "image/png": "[encoded data removed]"
     },
     "metadata": {
      "needs_background": "light"
     }
    }
   ]
  },
  {
   "cell_type": "markdown",
   "source": [
    "# Classification"
   ],
   "metadata": {
    "id": "i5nYCBsnp-Gx"
   }
  },
  {
   "cell_type": "markdown",
   "source": [
    "## Modèle Linéaire"
   ],
   "metadata": {
    "id": "2TJ8gWwCqEqp"
   }
  },
  {
   "cell_type": "markdown",
   "source": [
    "### Initialisation d'un modèle Linéaire pour une tâche de classification"
   ],
   "metadata": {
    "id": "5QmMFoo5pe1M"
   }
  },
  {
   "cell_type": "code",
   "source": [
    "W = np.random.uniform(-1.0, 1.0, 3)"
   ],
   "metadata": {
    "id": "oD608yKalted"
   },
   "execution_count": 5,
   "outputs": []
  },
  {
   "cell_type": "code",
   "source": [
    "print(W)"
   ],
   "metadata": {
    "colab": {
     "base_uri": "https://localhost:8080/"
    },
    "id": "UqqjNkBqni2v",
    "outputId": "6ffd3379-c0bf-4e2e-a93d-23ace6ab755b"
   },
   "execution_count": 6,
   "outputs": [
    {
     "output_type": "stream",
     "name": "stdout",
     "text": [
      "[-0.80086242  0.08311442  0.40966364]\n"
     ]
    }
   ]
  },
  {
   "cell_type": "markdown",
   "source": [
    "### Affichage de la séparation linéaire avant entrainement (elle est aléatoire)"
   ],
   "metadata": {
    "id": "tH-5rZ_-pm1G"
   }
  },
  {
   "cell_type": "code",
   "source": [
    "test_points = []\n",
    "test_colors = []\n",
    "for row in range(0, 300):\n",
    "  for col in range(0, 300):\n",
    "    p = np.array([col / 100, row / 100])\n",
    "    c = 'lightcyan' if np.matmul(np.transpose(W), np.array([1.0, *p])) >= 0 else 'pink'\n",
    "    test_points.append(p)\n",
    "    test_colors.append(c)\n",
    "test_points = np.array(test_points)\n",
    "test_colors = np.array(test_colors)"
   ],
   "metadata": {
    "id": "j2wKBqLlpCN5"
   },
   "execution_count": 7,
   "outputs": []
  },
  {
   "cell_type": "code",
   "source": [
    "plt.scatter(test_points[:, 0], test_points[:, 1], c=test_colors)\n",
    "plt.scatter(points[:, 0], points[:, 1], c=colors)\n",
    "plt.show()"
   ],
   "metadata": {
    "colab": {
     "base_uri": "https://localhost:8080/",
     "height": 265
    },
    "id": "03k5hVGOpD3T",
    "outputId": "186eaefb-7160-47d5-8514-794fa04f2d69"
   },
   "execution_count": 8,
   "outputs": [
    {
     "output_type": "display_data",
     "data": {
      "text/plain": [
       "<Figure size 432x288 with 1 Axes>"
      ],
      "image/png": "[encoded data removed]"
     },
     "metadata": {
      "needs_background": "light"
     }
    }
   ]
  },
  {
   "cell_type": "markdown",
   "source": [
    "### Entrainement du modèle"
   ],
   "metadata": {
    "id": "82C_hpXkprCo"
   }
  },
  {
   "cell_type": "code",
   "source": [
    "for _ in range(10000):\n",
    "  k = np.random.randint(0, len(points))\n",
    "  yk = classes[k]\n",
    "  Xk = np.array([1.0, *points[k]])\n",
    "  gXk = 1.0 if np.matmul(np.transpose(W), Xk) >= 0 else -1.0\n",
    "  W += 0.01 * (yk - gXk) * Xk"
   ],
   "metadata": {
    "id": "xhZgGYO-l-wc"
   },
   "execution_count": 9,
   "outputs": []
  },
  {
   "cell_type": "code",
   "source": [
    "print(W)"
   ],
   "metadata": {
    "colab": {
     "base_uri": "https://localhost:8080/"
    },
    "id": "slqJeQlnmMu-",
    "outputId": "37c55551-ceef-4b26-ef0f-08af5c069ad1"
   },
   "execution_count": 10,
   "outputs": [
    {
     "output_type": "stream",
     "name": "stdout",
     "text": [
      "[ 0.03913758  0.10311442 -0.13033636]\n"
     ]
    }
   ]
  },
  {
   "cell_type": "markdown",
   "source": [
    "### Affichage de la séparation linéaire après entrainement (yay !)"
   ],
   "metadata": {
    "id": "9TKgaZNxps-i"
   }
  },
  {
   "cell_type": "code",
   "source": [
    "test_points = []\n",
    "test_colors = []\n",
    "for row in range(0, 300):\n",
    "  for col in range(0, 300):\n",
    "    p = np.array([col / 100, row / 100])\n",
    "    c = 'lightcyan' if np.matmul(np.transpose(W), np.array([1.0, *p])) >= 0 else 'pink'\n",
    "    test_points.append(p)\n",
    "    test_colors.append(c)\n",
    "test_points = np.array(test_points)\n",
    "test_colors = np.array(test_colors)"
   ],
   "metadata": {
    "id": "RHzUS3Y2nkx-"
   },
   "execution_count": 11,
   "outputs": []
  },
  {
   "cell_type": "code",
   "source": [
    "plt.scatter(test_points[:, 0], test_points[:, 1], c=test_colors)\n",
    "plt.scatter(points[:, 0], points[:, 1], c=colors)\n",
    "plt.show()"
   ],
   "metadata": {
    "colab": {
     "base_uri": "https://localhost:8080/",
     "height": 265
    },
    "id": "h_R3oQQjn-zM",
    "outputId": "2d322554-9781-4f47-b885-aa0472d19288"
   },
   "execution_count": 12,
   "outputs": [
    {
     "output_type": "display_data",
     "data": {
      "text/plain": [
       "<Figure size 432x288 with 1 Axes>"
      ],
      "image/png": "[encoded data removed]"
     },
     "metadata": {
      "needs_background": "light"
     }
    }
   ]
  },
  {
   "cell_type": "markdown",
   "source": [
    "## PMC"
   ],
   "metadata": {
    "id": "mdj-EK6RqM0b"
   }
  },
  {
   "cell_type": "markdown",
   "source": [
    "### Definition PMC"
   ],
   "metadata": {
    "id": "K2tLyzUD2uvb"
   }
  },
  {
   "cell_type": "code",
   "source": [
    "class PMC:\n",
    "  def __init__(self, npl: List[int]):\n",
    "    self.W = []\n",
    "    self.d = npl.copy()\n",
    "    self.L = len(npl) - 1\n",
    "    \n",
    "    # définitions des caches pour accélérer l'apprentissage\n",
    "    self.X = []\n",
    "    self.deltas = []\n",
    "\n",
    "    # initialisation des W :\n",
    "    for l in range(len(self.d)):\n",
    "      self.W.append([])\n",
    "      if l == 0:\n",
    "        continue\n",
    "      for i in range(0, self.d[l - 1] + 1):\n",
    "        self.W[l].append([])\n",
    "        for j in range(0, self.d[l] + 1):\n",
    "          self.W[l][i].append(0.0 if j == 0 else np.random.uniform(-1, 1))\n",
    "\n",
    "    # initialisation des X et des deltas :\n",
    "    for l in range(len(self.d)):\n",
    "      self.X.append([])\n",
    "      self.deltas.append([])\n",
    "      for j in range(0, self.d[l] + 1):\n",
    "        self.deltas[l].append(0.0)\n",
    "        self.X[l].append(1.0 if j == 0 else 0.0)\n",
    "\n",
    "  def _propagate(self, inputs: List[float], is_classification: bool):\n",
    "    for j in range(1, self.d[0] + 1):\n",
    "      self.X[0][j] = inputs[j - 1]\n",
    "    \n",
    "    for l in range(1, len(self.d)):\n",
    "      for j in range(1, self.d[l] + 1):\n",
    "          total = 0\n",
    "          for i in range(0, self.d[l - 1] + 1):\n",
    "            total += self.W[l][i][j] * self.X[l - 1][i]\n",
    "\n",
    "          \n",
    "          self.X[l][j] = total\n",
    "          if is_classification or l < self.L:\n",
    "            self.X[l][j] = math.tanh(total)\n",
    "\n",
    "  def predict(self, inputs: List[float], is_classification: bool) -> List[float]:\n",
    "    self._propagate(inputs, is_classification)\n",
    "    return self.X[self.L][1:].copy()\n",
    "\n",
    "  def train(self, \n",
    "            X_train: List[List[float]], \n",
    "            Y_train: List[List[float]],\n",
    "            is_classification: bool, \n",
    "            alpha: float = 0.01, \n",
    "            nb_iter: int = 10000):\n",
    "    for it in tqdm(range(nb_iter)):\n",
    "      k = np.random.randint(0, len(X_train))\n",
    "      Xk = X_train[k]\n",
    "      Yk = Y_train[k]\n",
    "\n",
    "      self._propagate(Xk, is_classification)\n",
    "      for j in range(1, self.d[self.L] + 1):\n",
    "        self.deltas[self.L][j] = self.X[self.L][j] - Yk[j - 1]\n",
    "        if is_classification:\n",
    "          self.deltas[self.L][j] = self.deltas[self.L][j] * (1 - self.X[self.L][j] ** 2)\n",
    "      \n",
    "      for l in reversed(range(2, len(self.d))):\n",
    "        for i in range(1, self.d[l - 1] + 1):\n",
    "          total = 0.0\n",
    "          for j in range(1, self.d[l] + 1):\n",
    "            total += self.W[l][i][j] * self.deltas[l][j]\n",
    "          self.deltas[l - 1][i] = (1 - self.X[l - 1][i] ** 2) * total\n",
    "      \n",
    "      for l in range(1, len(self.d)):\n",
    "        for i in range(0, self.d[l - 1] + 1):\n",
    "          for j in range(1, self.d[l] + 1):\n",
    "            self.W[l][i][j] += - alpha * self.X[l-1][i] * self.deltas[l][j]      "
   ],
   "metadata": {
    "id": "FrJ2phOGqONd"
   },
   "execution_count": 13,
   "outputs": []
  },
  {
   "cell_type": "markdown",
   "source": [
    "### Test PMC sans couche cachée sur le dataset du modèle linéaire"
   ],
   "metadata": {
    "id": "LhWCtsbb2xFg"
   }
  },
  {
   "cell_type": "code",
   "source": [
    "model = PMC([2, 1])"
   ],
   "metadata": {
    "id": "uDIuQ4DPtctG"
   },
   "execution_count": 14,
   "outputs": []
  },
  {
   "cell_type": "code",
   "source": [
    "test_points = []\n",
    "test_colors = []\n",
    "for row in range(0, 300):\n",
    "  for col in range(0, 300):\n",
    "    p = np.array([col / 100, row / 100])\n",
    "    c = 'lightcyan' if model.predict(p, True)[0] >= 0 else 'pink'\n",
    "    test_points.append(p)\n",
    "    test_colors.append(c)\n",
    "test_points = np.array(test_points)\n",
    "test_colors = np.array(test_colors)"
   ],
   "metadata": {
    "id": "tl792R__teLj"
   },
   "execution_count": 15,
   "outputs": []
  },
  {
   "cell_type": "code",
   "source": [
    "plt.scatter(test_points[:, 0], test_points[:, 1], c=test_colors)\n",
    "plt.scatter(points[:, 0], points[:, 1], c=colors)\n",
    "plt.show()"
   ],
   "metadata": {
    "colab": {
     "base_uri": "https://localhost:8080/",
     "height": 265
    },
    "id": "I8HAQ3vItiPg",
    "outputId": "41d3ed40-a788-4f00-c0c6-a83711c7da60"
   },
   "execution_count": 16,
   "outputs": [
    {
     "output_type": "display_data",
     "data": {
      "text/plain": [
       "<Figure size 432x288 with 1 Axes>"
      ],
      "image/png": "[encoded data removed]"
     },
     "metadata": {
      "needs_background": "light"
     }
    }
   ]
  },
  {
   "cell_type": "code",
   "source": [
    "model.train(points, [[c] for c in classes], True)"
   ],
   "metadata": {
    "colab": {
     "base_uri": "https://localhost:8080/"
    },
    "id": "NML6nzZ_3Hzq",
    "outputId": "c4aca611-63c7-4178-faf4-7dd62c0bc288"
   },
   "execution_count": 17,
   "outputs": [
    {
     "output_type": "stream",
     "name": "stderr",
     "text": [
      "100%|██████████| 10000/10000 [00:00<00:00, 43558.49it/s]\n"
     ]
    }
   ]
  },
  {
   "cell_type": "code",
   "source": [
    "test_points = []\n",
    "test_colors = []\n",
    "for row in range(0, 300):\n",
    "  for col in range(0, 300):\n",
    "    p = np.array([col / 100, row / 100])\n",
    "    c = 'lightcyan' if model.predict(p, True)[0] >= 0 else 'pink'\n",
    "    test_points.append(p)\n",
    "    test_colors.append(c)\n",
    "test_points = np.array(test_points)\n",
    "test_colors = np.array(test_colors)"
   ],
   "metadata": {
    "id": "p_1FH_bb3dGA"
   },
   "execution_count": 18,
   "outputs": []
  },
  {
   "cell_type": "code",
   "source": [
    "plt.scatter(test_points[:, 0], test_points[:, 1], c=test_colors)\n",
    "plt.scatter(points[:, 0], points[:, 1], c=colors)\n",
    "plt.show()"
   ],
   "metadata": {
    "colab": {
     "base_uri": "https://localhost:8080/",
     "height": 265
    },
    "id": "mU0x7YYV3gP5",
    "outputId": "c3380a5c-ad2d-44de-b518-aac5cb2a476f"
   },
   "execution_count": 19,
   "outputs": [
    {
     "output_type": "display_data",
     "data": {
      "text/plain": [
       "<Figure size 432x288 with 1 Axes>"
      ],
      "image/png": "[encoded data removed]"
     },
     "metadata": {
      "needs_background": "light"
     }
    }
   ]
  },
  {
   "cell_type": "markdown",
   "source": [
    "### Test du PMC sur le cas de test XOR"
   ],
   "metadata": {
    "id": "IA5Nm7mM3vyQ"
   }
  },
  {
   "cell_type": "code",
   "source": [
    "xor_points = np.array([\n",
    "    [0, 0],\n",
    "    [1, 1],\n",
    "    [0, 1],\n",
    "    [1, 0],\n",
    "])\n",
    "xor_classes = np.array([\n",
    "    -1,\n",
    "    -1,\n",
    "    1,\n",
    "    1,\n",
    "])"
   ],
   "metadata": {
    "id": "7tTdlkTG3ua6"
   },
   "execution_count": 20,
   "outputs": []
  },
  {
   "cell_type": "code",
   "source": [
    "xor_colors = ['blue' if c == 1 else 'red' for c in xor_classes]"
   ],
   "metadata": {
    "id": "vdqggOTL4S1B"
   },
   "execution_count": 21,
   "outputs": []
  },
  {
   "cell_type": "code",
   "source": [
    "model = PMC([2, 2, 1])"
   ],
   "metadata": {
    "id": "CyD1jeXA3yi8"
   },
   "execution_count": 22,
   "outputs": []
  },
  {
   "cell_type": "code",
   "source": [
    "for p in points:\n",
    "  print(model.predict(p, True))"
   ],
   "metadata": {
    "colab": {
     "base_uri": "https://localhost:8080/"
    },
    "id": "au-WEjaa8M7g",
    "outputId": "a1556fd5-1c3a-49c3-8a28-4e4ba1c064df"
   },
   "execution_count": 23,
   "outputs": [
    {
     "output_type": "stream",
     "name": "stdout",
     "text": [
      "[0.8250936764682975]\n",
      "[0.836760493105739]\n",
      "[0.807735169267789]\n"
     ]
    }
   ]
  },
  {
   "cell_type": "code",
   "source": [
    "test_points = []\n",
    "test_colors = []\n",
    "for row in range(0, 300):\n",
    "  for col in range(0, 300):\n",
    "    p = np.array([col / 100 -1, row / 100 - 1])\n",
    "    c = 'lightcyan' if model.predict(p, True)[0] >= 0 else 'pink'\n",
    "    test_points.append(p)\n",
    "    test_colors.append(c)\n",
    "test_points = np.array(test_points)\n",
    "test_colors = np.array(test_colors)"
   ],
   "metadata": {
    "id": "QXV_cwdv3yi8"
   },
   "execution_count": 24,
   "outputs": []
  },
  {
   "cell_type": "code",
   "source": [
    "plt.scatter(test_points[:, 0], test_points[:, 1], c=test_colors)\n",
    "plt.scatter(xor_points[:, 0], xor_points[:, 1], c=xor_colors)\n",
    "plt.show()"
   ],
   "metadata": {
    "colab": {
     "base_uri": "https://localhost:8080/",
     "height": 265
    },
    "outputId": "421747b0-cc70-4476-d64d-27156fc3c393",
    "id": "_relepsr3yi8"
   },
   "execution_count": 25,
   "outputs": [
    {
     "output_type": "display_data",
     "data": {
      "text/plain": [
       "<Figure size 432x288 with 1 Axes>"
      ],
      "image/png": "[encoded data removed]"
     },
     "metadata": {
      "needs_background": "light"
     }
    }
   ]
  },
  {
   "cell_type": "code",
   "source": [
    "model.train(xor_points, [[c] for c in xor_classes], True, nb_iter=100000, alpha=0.01)"
   ],
   "metadata": {
    "colab": {
     "base_uri": "https://localhost:8080/"
    },
    "id": "TNQH_D1r3yi9",
    "outputId": "5f415000-100d-4c85-9dc6-59565fa54f43"
   },
   "execution_count": 26,
   "outputs": [
    {
     "output_type": "stream",
     "name": "stderr",
     "text": [
      "100%|██████████| 100000/100000 [00:04<00:00, 21526.27it/s]\n"
     ]
    }
   ]
  },
  {
   "cell_type": "code",
   "source": [
    "test_points = []\n",
    "test_colors = []\n",
    "for row in range(0, 300):\n",
    "  for col in range(0, 300):\n",
    "    p = np.array([col / 100 -1, row / 100 - 1])\n",
    "    c = 'lightcyan' if model.predict(p, True)[0] >= 0 else 'pink'\n",
    "    test_points.append(p)\n",
    "    test_colors.append(c)\n",
    "test_points = np.array(test_points)\n",
    "test_colors = np.array(test_colors)"
   ],
   "metadata": {
    "id": "HRdZdtzm3yi9"
   },
   "execution_count": 27,
   "outputs": []
  },
  {
   "cell_type": "code",
   "source": [
    "plt.scatter(test_points[:, 0], test_points[:, 1], c=test_colors)\n",
    "plt.scatter(xor_points[:, 0], xor_points[:, 1], c=xor_colors)\n",
    "plt.show()"
   ],
   "metadata": {
    "colab": {
     "base_uri": "https://localhost:8080/",
     "height": 265
    },
    "outputId": "2e067d38-e345-43aa-b6d6-bb02ee8d2d1a",
    "id": "rlW-6nZT3yi9"
   },
   "execution_count": 28,
   "outputs": [
    {
     "output_type": "display_data",
     "data": {
      "text/plain": [
       "<Figure size 432x288 with 1 Axes>"
      ],
      "image/png": "[encoded data removed]"
     },
     "metadata": {
      "needs_background": "light"
     }
    }
   ]
  },
  {
   "cell_type": "code",
   "source": [],
   "metadata": {
    "id": "C1LBxTU-6hhw"
   },
   "execution_count": 28,
   "outputs": []
  }
 ]
}
